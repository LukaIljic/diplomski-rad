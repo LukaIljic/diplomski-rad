{
 "cells": [
  {
   "cell_type": "code",
   "execution_count": 1,
   "metadata": {},
   "outputs": [],
   "source": [
    "# Učitavanje potrebnih biblioteka\n",
    "import pandas as pd\n",
    "\n",
    "import numpy as np\n",
    "\n",
    "%matplotlib notebook\n",
    "import matplotlib.pyplot as plt\n",
    "%matplotlib inline \n",
    "\n",
    "from sklearn.model_selection import train_test_split"
   ]
  },
  {
   "cell_type": "code",
   "execution_count": 2,
   "metadata": {},
   "outputs": [
    {
     "data": {
      "text/html": [
       "<div>\n",
       "<style scoped>\n",
       "    .dataframe tbody tr th:only-of-type {\n",
       "        vertical-align: middle;\n",
       "    }\n",
       "\n",
       "    .dataframe tbody tr th {\n",
       "        vertical-align: top;\n",
       "    }\n",
       "\n",
       "    .dataframe thead th {\n",
       "        text-align: right;\n",
       "    }\n",
       "</style>\n",
       "<table border=\"1\" class=\"dataframe\">\n",
       "  <thead>\n",
       "    <tr style=\"text-align: right;\">\n",
       "      <th></th>\n",
       "      <th>Date</th>\n",
       "      <th>Open</th>\n",
       "      <th>High</th>\n",
       "      <th>Low</th>\n",
       "      <th>Close</th>\n",
       "      <th>Adj Close</th>\n",
       "      <th>Volume</th>\n",
       "    </tr>\n",
       "  </thead>\n",
       "  <tbody>\n",
       "    <tr>\n",
       "      <th>0</th>\n",
       "      <td>2019-01-02</td>\n",
       "      <td>306.100006</td>\n",
       "      <td>315.130005</td>\n",
       "      <td>298.799988</td>\n",
       "      <td>310.119995</td>\n",
       "      <td>310.119995</td>\n",
       "      <td>11658600</td>\n",
       "    </tr>\n",
       "    <tr>\n",
       "      <th>1</th>\n",
       "      <td>2019-01-03</td>\n",
       "      <td>307.000000</td>\n",
       "      <td>309.399994</td>\n",
       "      <td>297.380005</td>\n",
       "      <td>300.359985</td>\n",
       "      <td>300.359985</td>\n",
       "      <td>6965200</td>\n",
       "    </tr>\n",
       "    <tr>\n",
       "      <th>2</th>\n",
       "      <td>2019-01-04</td>\n",
       "      <td>306.000000</td>\n",
       "      <td>318.000000</td>\n",
       "      <td>302.730011</td>\n",
       "      <td>317.690002</td>\n",
       "      <td>317.690002</td>\n",
       "      <td>7394100</td>\n",
       "    </tr>\n",
       "    <tr>\n",
       "      <th>3</th>\n",
       "      <td>2019-01-07</td>\n",
       "      <td>321.720001</td>\n",
       "      <td>336.739990</td>\n",
       "      <td>317.750000</td>\n",
       "      <td>334.959991</td>\n",
       "      <td>334.959991</td>\n",
       "      <td>7551200</td>\n",
       "    </tr>\n",
       "    <tr>\n",
       "      <th>4</th>\n",
       "      <td>2019-01-08</td>\n",
       "      <td>341.959991</td>\n",
       "      <td>344.010010</td>\n",
       "      <td>327.019989</td>\n",
       "      <td>335.350006</td>\n",
       "      <td>335.350006</td>\n",
       "      <td>7008500</td>\n",
       "    </tr>\n",
       "  </tbody>\n",
       "</table>\n",
       "</div>"
      ],
      "text/plain": [
       "         Date        Open        High         Low       Close   Adj Close  \\\n",
       "0  2019-01-02  306.100006  315.130005  298.799988  310.119995  310.119995   \n",
       "1  2019-01-03  307.000000  309.399994  297.380005  300.359985  300.359985   \n",
       "2  2019-01-04  306.000000  318.000000  302.730011  317.690002  317.690002   \n",
       "3  2019-01-07  321.720001  336.739990  317.750000  334.959991  334.959991   \n",
       "4  2019-01-08  341.959991  344.010010  327.019989  335.350006  335.350006   \n",
       "\n",
       "     Volume  \n",
       "0  11658600  \n",
       "1   6965200  \n",
       "2   7394100  \n",
       "3   7551200  \n",
       "4   7008500  "
      ]
     },
     "execution_count": 2,
     "metadata": {},
     "output_type": "execute_result"
    }
   ],
   "source": [
    "dionice = pd.read_csv('TSLA2019.csv') \n",
    "dionice.head()"
   ]
  },
  {
   "cell_type": "code",
   "execution_count": 3,
   "metadata": {},
   "outputs": [
    {
     "data": {
      "text/plain": [
       "(252, 7)"
      ]
     },
     "execution_count": 3,
     "metadata": {},
     "output_type": "execute_result"
    }
   ],
   "source": [
    " dionice.shape"
   ]
  },
  {
   "cell_type": "code",
   "execution_count": 4,
   "metadata": {},
   "outputs": [
    {
     "name": "stdout",
     "output_type": "stream",
     "text": [
      "<class 'pandas.core.frame.DataFrame'>\n",
      "RangeIndex: 252 entries, 0 to 251\n",
      "Data columns (total 7 columns):\n",
      " #   Column     Non-Null Count  Dtype  \n",
      "---  ------     --------------  -----  \n",
      " 0   Date       252 non-null    object \n",
      " 1   Open       252 non-null    float64\n",
      " 2   High       252 non-null    float64\n",
      " 3   Low        252 non-null    float64\n",
      " 4   Close      252 non-null    float64\n",
      " 5   Adj Close  252 non-null    float64\n",
      " 6   Volume     252 non-null    int64  \n",
      "dtypes: float64(5), int64(1), object(1)\n",
      "memory usage: 13.9+ KB\n"
     ]
    }
   ],
   "source": [
    "dionice.info()"
   ]
  },
  {
   "cell_type": "code",
   "execution_count": 5,
   "metadata": {},
   "outputs": [
    {
     "data": {
      "text/plain": [
       "(252, 7)"
      ]
     },
     "execution_count": 5,
     "metadata": {},
     "output_type": "execute_result"
    }
   ],
   "source": [
    "dionice[dionice['Close'] == dionice['Adj Close']].shape"
   ]
  },
  {
   "cell_type": "code",
   "execution_count": 3,
   "metadata": {},
   "outputs": [
    {
     "data": {
      "text/html": [
       "<div>\n",
       "<style scoped>\n",
       "    .dataframe tbody tr th:only-of-type {\n",
       "        vertical-align: middle;\n",
       "    }\n",
       "\n",
       "    .dataframe tbody tr th {\n",
       "        vertical-align: top;\n",
       "    }\n",
       "\n",
       "    .dataframe thead th {\n",
       "        text-align: right;\n",
       "    }\n",
       "</style>\n",
       "<table border=\"1\" class=\"dataframe\">\n",
       "  <thead>\n",
       "    <tr style=\"text-align: right;\">\n",
       "      <th></th>\n",
       "      <th>Date</th>\n",
       "      <th>Open</th>\n",
       "      <th>High</th>\n",
       "      <th>Low</th>\n",
       "      <th>Close</th>\n",
       "      <th>Volume</th>\n",
       "    </tr>\n",
       "  </thead>\n",
       "  <tbody>\n",
       "    <tr>\n",
       "      <th>0</th>\n",
       "      <td>2019-01-02</td>\n",
       "      <td>306.100006</td>\n",
       "      <td>315.130005</td>\n",
       "      <td>298.799988</td>\n",
       "      <td>310.119995</td>\n",
       "      <td>11658600</td>\n",
       "    </tr>\n",
       "    <tr>\n",
       "      <th>1</th>\n",
       "      <td>2019-01-03</td>\n",
       "      <td>307.000000</td>\n",
       "      <td>309.399994</td>\n",
       "      <td>297.380005</td>\n",
       "      <td>300.359985</td>\n",
       "      <td>6965200</td>\n",
       "    </tr>\n",
       "    <tr>\n",
       "      <th>2</th>\n",
       "      <td>2019-01-04</td>\n",
       "      <td>306.000000</td>\n",
       "      <td>318.000000</td>\n",
       "      <td>302.730011</td>\n",
       "      <td>317.690002</td>\n",
       "      <td>7394100</td>\n",
       "    </tr>\n",
       "    <tr>\n",
       "      <th>3</th>\n",
       "      <td>2019-01-07</td>\n",
       "      <td>321.720001</td>\n",
       "      <td>336.739990</td>\n",
       "      <td>317.750000</td>\n",
       "      <td>334.959991</td>\n",
       "      <td>7551200</td>\n",
       "    </tr>\n",
       "    <tr>\n",
       "      <th>4</th>\n",
       "      <td>2019-01-08</td>\n",
       "      <td>341.959991</td>\n",
       "      <td>344.010010</td>\n",
       "      <td>327.019989</td>\n",
       "      <td>335.350006</td>\n",
       "      <td>7008500</td>\n",
       "    </tr>\n",
       "  </tbody>\n",
       "</table>\n",
       "</div>"
      ],
      "text/plain": [
       "         Date        Open        High         Low       Close    Volume\n",
       "0  2019-01-02  306.100006  315.130005  298.799988  310.119995  11658600\n",
       "1  2019-01-03  307.000000  309.399994  297.380005  300.359985   6965200\n",
       "2  2019-01-04  306.000000  318.000000  302.730011  317.690002   7394100\n",
       "3  2019-01-07  321.720001  336.739990  317.750000  334.959991   7551200\n",
       "4  2019-01-08  341.959991  344.010010  327.019989  335.350006   7008500"
      ]
     },
     "execution_count": 3,
     "metadata": {},
     "output_type": "execute_result"
    }
   ],
   "source": [
    "dionice = dionice.drop(['Adj Close'], axis=1)\n",
    "dionice.head()"
   ]
  },
  {
   "cell_type": "code",
   "execution_count": 4,
   "metadata": {},
   "outputs": [
    {
     "data": {
      "text/html": [
       "<div>\n",
       "<style scoped>\n",
       "    .dataframe tbody tr th:only-of-type {\n",
       "        vertical-align: middle;\n",
       "    }\n",
       "\n",
       "    .dataframe tbody tr th {\n",
       "        vertical-align: top;\n",
       "    }\n",
       "\n",
       "    .dataframe thead th {\n",
       "        text-align: right;\n",
       "    }\n",
       "</style>\n",
       "<table border=\"1\" class=\"dataframe\">\n",
       "  <thead>\n",
       "    <tr style=\"text-align: right;\">\n",
       "      <th></th>\n",
       "      <th>Date</th>\n",
       "      <th>Open</th>\n",
       "      <th>High</th>\n",
       "      <th>Low</th>\n",
       "      <th>Close</th>\n",
       "      <th>Volume</th>\n",
       "      <th>day</th>\n",
       "      <th>month</th>\n",
       "      <th>year</th>\n",
       "    </tr>\n",
       "  </thead>\n",
       "  <tbody>\n",
       "    <tr>\n",
       "      <th>0</th>\n",
       "      <td>2019-01-02</td>\n",
       "      <td>306.100006</td>\n",
       "      <td>315.130005</td>\n",
       "      <td>298.799988</td>\n",
       "      <td>310.119995</td>\n",
       "      <td>11658600</td>\n",
       "      <td>2</td>\n",
       "      <td>1</td>\n",
       "      <td>2019</td>\n",
       "    </tr>\n",
       "    <tr>\n",
       "      <th>1</th>\n",
       "      <td>2019-01-03</td>\n",
       "      <td>307.000000</td>\n",
       "      <td>309.399994</td>\n",
       "      <td>297.380005</td>\n",
       "      <td>300.359985</td>\n",
       "      <td>6965200</td>\n",
       "      <td>3</td>\n",
       "      <td>1</td>\n",
       "      <td>2019</td>\n",
       "    </tr>\n",
       "    <tr>\n",
       "      <th>2</th>\n",
       "      <td>2019-01-04</td>\n",
       "      <td>306.000000</td>\n",
       "      <td>318.000000</td>\n",
       "      <td>302.730011</td>\n",
       "      <td>317.690002</td>\n",
       "      <td>7394100</td>\n",
       "      <td>4</td>\n",
       "      <td>1</td>\n",
       "      <td>2019</td>\n",
       "    </tr>\n",
       "    <tr>\n",
       "      <th>3</th>\n",
       "      <td>2019-01-07</td>\n",
       "      <td>321.720001</td>\n",
       "      <td>336.739990</td>\n",
       "      <td>317.750000</td>\n",
       "      <td>334.959991</td>\n",
       "      <td>7551200</td>\n",
       "      <td>7</td>\n",
       "      <td>1</td>\n",
       "      <td>2019</td>\n",
       "    </tr>\n",
       "    <tr>\n",
       "      <th>4</th>\n",
       "      <td>2019-01-08</td>\n",
       "      <td>341.959991</td>\n",
       "      <td>344.010010</td>\n",
       "      <td>327.019989</td>\n",
       "      <td>335.350006</td>\n",
       "      <td>7008500</td>\n",
       "      <td>8</td>\n",
       "      <td>1</td>\n",
       "      <td>2019</td>\n",
       "    </tr>\n",
       "  </tbody>\n",
       "</table>\n",
       "</div>"
      ],
      "text/plain": [
       "         Date        Open        High         Low       Close    Volume  day  \\\n",
       "0  2019-01-02  306.100006  315.130005  298.799988  310.119995  11658600    2   \n",
       "1  2019-01-03  307.000000  309.399994  297.380005  300.359985   6965200    3   \n",
       "2  2019-01-04  306.000000  318.000000  302.730011  317.690002   7394100    4   \n",
       "3  2019-01-07  321.720001  336.739990  317.750000  334.959991   7551200    7   \n",
       "4  2019-01-08  341.959991  344.010010  327.019989  335.350006   7008500    8   \n",
       "\n",
       "   month  year  \n",
       "0      1  2019  \n",
       "1      1  2019  \n",
       "2      1  2019  \n",
       "3      1  2019  \n",
       "4      1  2019  "
      ]
     },
     "execution_count": 4,
     "metadata": {},
     "output_type": "execute_result"
    }
   ],
   "source": [
    "splitted = dionice['Date'].str.split('-', expand=True) \n",
    "\n",
    "dionice['day'] = splitted[2].astype('int') \n",
    "dionice['month'] = splitted[1].astype('int') \n",
    "dionice['year'] = splitted[0].astype('int') \n",
    "\n",
    "dionice.head()"
   ]
  },
  {
   "cell_type": "code",
   "execution_count": 5,
   "metadata": {},
   "outputs": [
    {
     "data": {
      "text/html": [
       "<div>\n",
       "<style scoped>\n",
       "    .dataframe tbody tr th:only-of-type {\n",
       "        vertical-align: middle;\n",
       "    }\n",
       "\n",
       "    .dataframe tbody tr th {\n",
       "        vertical-align: top;\n",
       "    }\n",
       "\n",
       "    .dataframe thead th {\n",
       "        text-align: right;\n",
       "    }\n",
       "</style>\n",
       "<table border=\"1\" class=\"dataframe\">\n",
       "  <thead>\n",
       "    <tr style=\"text-align: right;\">\n",
       "      <th></th>\n",
       "      <th>Date</th>\n",
       "      <th>Open</th>\n",
       "      <th>High</th>\n",
       "      <th>Low</th>\n",
       "      <th>Close</th>\n",
       "      <th>Volume</th>\n",
       "      <th>day</th>\n",
       "      <th>month</th>\n",
       "      <th>year</th>\n",
       "      <th>kraj_kvartala</th>\n",
       "    </tr>\n",
       "  </thead>\n",
       "  <tbody>\n",
       "    <tr>\n",
       "      <th>0</th>\n",
       "      <td>2019-01-02</td>\n",
       "      <td>306.100006</td>\n",
       "      <td>315.130005</td>\n",
       "      <td>298.799988</td>\n",
       "      <td>310.119995</td>\n",
       "      <td>11658600</td>\n",
       "      <td>2</td>\n",
       "      <td>1</td>\n",
       "      <td>2019</td>\n",
       "      <td>0</td>\n",
       "    </tr>\n",
       "    <tr>\n",
       "      <th>1</th>\n",
       "      <td>2019-01-03</td>\n",
       "      <td>307.000000</td>\n",
       "      <td>309.399994</td>\n",
       "      <td>297.380005</td>\n",
       "      <td>300.359985</td>\n",
       "      <td>6965200</td>\n",
       "      <td>3</td>\n",
       "      <td>1</td>\n",
       "      <td>2019</td>\n",
       "      <td>0</td>\n",
       "    </tr>\n",
       "    <tr>\n",
       "      <th>2</th>\n",
       "      <td>2019-01-04</td>\n",
       "      <td>306.000000</td>\n",
       "      <td>318.000000</td>\n",
       "      <td>302.730011</td>\n",
       "      <td>317.690002</td>\n",
       "      <td>7394100</td>\n",
       "      <td>4</td>\n",
       "      <td>1</td>\n",
       "      <td>2019</td>\n",
       "      <td>0</td>\n",
       "    </tr>\n",
       "    <tr>\n",
       "      <th>3</th>\n",
       "      <td>2019-01-07</td>\n",
       "      <td>321.720001</td>\n",
       "      <td>336.739990</td>\n",
       "      <td>317.750000</td>\n",
       "      <td>334.959991</td>\n",
       "      <td>7551200</td>\n",
       "      <td>7</td>\n",
       "      <td>1</td>\n",
       "      <td>2019</td>\n",
       "      <td>0</td>\n",
       "    </tr>\n",
       "    <tr>\n",
       "      <th>4</th>\n",
       "      <td>2019-01-08</td>\n",
       "      <td>341.959991</td>\n",
       "      <td>344.010010</td>\n",
       "      <td>327.019989</td>\n",
       "      <td>335.350006</td>\n",
       "      <td>7008500</td>\n",
       "      <td>8</td>\n",
       "      <td>1</td>\n",
       "      <td>2019</td>\n",
       "      <td>0</td>\n",
       "    </tr>\n",
       "  </tbody>\n",
       "</table>\n",
       "</div>"
      ],
      "text/plain": [
       "         Date        Open        High         Low       Close    Volume  day  \\\n",
       "0  2019-01-02  306.100006  315.130005  298.799988  310.119995  11658600    2   \n",
       "1  2019-01-03  307.000000  309.399994  297.380005  300.359985   6965200    3   \n",
       "2  2019-01-04  306.000000  318.000000  302.730011  317.690002   7394100    4   \n",
       "3  2019-01-07  321.720001  336.739990  317.750000  334.959991   7551200    7   \n",
       "4  2019-01-08  341.959991  344.010010  327.019989  335.350006   7008500    8   \n",
       "\n",
       "   month  year  kraj_kvartala  \n",
       "0      1  2019              0  \n",
       "1      1  2019              0  \n",
       "2      1  2019              0  \n",
       "3      1  2019              0  \n",
       "4      1  2019              0  "
      ]
     },
     "execution_count": 5,
     "metadata": {},
     "output_type": "execute_result"
    }
   ],
   "source": [
    "dionice['kraj_kvartala'] = np.where(dionice['month']%3==0,1,0) \n",
    "dionice.head()"
   ]
  },
  {
   "cell_type": "code",
   "execution_count": 6,
   "metadata": {},
   "outputs": [
    {
     "data": {
      "text/plain": [
       "<bound method NDFrame.head of            Date        Open        High         Low       Close    Volume  \\\n",
       "0    2019-01-02  306.100006  315.130005  298.799988  310.119995  11658600   \n",
       "1    2019-01-03  307.000000  309.399994  297.380005  300.359985   6965200   \n",
       "2    2019-01-04  306.000000  318.000000  302.730011  317.690002   7394100   \n",
       "3    2019-01-07  321.720001  336.739990  317.750000  334.959991   7551200   \n",
       "4    2019-01-08  341.959991  344.010010  327.019989  335.350006   7008500   \n",
       "..          ...         ...         ...         ...         ...       ...   \n",
       "247  2019-12-24  418.359985  425.470001  412.690002  425.250000   8054700   \n",
       "248  2019-12-26  427.910004  433.480011  426.350006  430.940002  10633900   \n",
       "249  2019-12-27  435.000000  435.309998  426.109985  430.380005   9945700   \n",
       "250  2019-12-30  428.790009  429.000000  409.260010  414.700012  12586400   \n",
       "251  2019-12-31  405.000000  421.290009  402.079987  418.329987  10285700   \n",
       "\n",
       "     day  month  year  kraj_kvartala  Promjena  \n",
       "0      2      1  2019              0       NaN  \n",
       "1      3      1  2019              0 -3.147172  \n",
       "2      4      1  2019              0  5.769749  \n",
       "3      7      1  2019              0  5.436113  \n",
       "4      8      1  2019              0  0.116436  \n",
       "..   ...    ...   ...            ...       ...  \n",
       "247   24     12  2019              1  1.438385  \n",
       "248   26     12  2019              1  1.338037  \n",
       "249   27     12  2019              1 -0.129948  \n",
       "250   30     12  2019              1 -3.643290  \n",
       "251   31     12  2019              1  0.875326  \n",
       "\n",
       "[252 rows x 11 columns]>"
      ]
     },
     "execution_count": 6,
     "metadata": {},
     "output_type": "execute_result"
    }
   ],
   "source": [
    "\n",
    "# Izračun postotne promjene\n",
    "dionice['Promjena'] = dionice['Close'].pct_change() * 100\n",
    "\n",
    "\n",
    "dionice.head"
   ]
  },
  {
   "cell_type": "code",
   "execution_count": 7,
   "metadata": {},
   "outputs": [
    {
     "data": {
      "text/html": [
       "<div>\n",
       "<style scoped>\n",
       "    .dataframe tbody tr th:only-of-type {\n",
       "        vertical-align: middle;\n",
       "    }\n",
       "\n",
       "    .dataframe tbody tr th {\n",
       "        vertical-align: top;\n",
       "    }\n",
       "\n",
       "    .dataframe thead th {\n",
       "        text-align: right;\n",
       "    }\n",
       "</style>\n",
       "<table border=\"1\" class=\"dataframe\">\n",
       "  <thead>\n",
       "    <tr style=\"text-align: right;\">\n",
       "      <th></th>\n",
       "      <th>Date</th>\n",
       "      <th>Open</th>\n",
       "      <th>High</th>\n",
       "      <th>Low</th>\n",
       "      <th>Close</th>\n",
       "      <th>Volume</th>\n",
       "      <th>day</th>\n",
       "      <th>month</th>\n",
       "      <th>year</th>\n",
       "      <th>kraj_kvartala</th>\n",
       "      <th>Promjena</th>\n",
       "      <th>open-close</th>\n",
       "      <th>low-high</th>\n",
       "      <th>Kupiti</th>\n",
       "    </tr>\n",
       "  </thead>\n",
       "  <tbody>\n",
       "    <tr>\n",
       "      <th>0</th>\n",
       "      <td>2019-01-02</td>\n",
       "      <td>306.100006</td>\n",
       "      <td>315.130005</td>\n",
       "      <td>298.799988</td>\n",
       "      <td>310.119995</td>\n",
       "      <td>11658600</td>\n",
       "      <td>2</td>\n",
       "      <td>1</td>\n",
       "      <td>2019</td>\n",
       "      <td>0</td>\n",
       "      <td>NaN</td>\n",
       "      <td>-4.019989</td>\n",
       "      <td>-16.330017</td>\n",
       "      <td>0</td>\n",
       "    </tr>\n",
       "    <tr>\n",
       "      <th>1</th>\n",
       "      <td>2019-01-03</td>\n",
       "      <td>307.000000</td>\n",
       "      <td>309.399994</td>\n",
       "      <td>297.380005</td>\n",
       "      <td>300.359985</td>\n",
       "      <td>6965200</td>\n",
       "      <td>3</td>\n",
       "      <td>1</td>\n",
       "      <td>2019</td>\n",
       "      <td>0</td>\n",
       "      <td>-3.147172</td>\n",
       "      <td>6.640015</td>\n",
       "      <td>-12.019989</td>\n",
       "      <td>1</td>\n",
       "    </tr>\n",
       "    <tr>\n",
       "      <th>2</th>\n",
       "      <td>2019-01-04</td>\n",
       "      <td>306.000000</td>\n",
       "      <td>318.000000</td>\n",
       "      <td>302.730011</td>\n",
       "      <td>317.690002</td>\n",
       "      <td>7394100</td>\n",
       "      <td>4</td>\n",
       "      <td>1</td>\n",
       "      <td>2019</td>\n",
       "      <td>0</td>\n",
       "      <td>5.769749</td>\n",
       "      <td>-11.690002</td>\n",
       "      <td>-15.269989</td>\n",
       "      <td>1</td>\n",
       "    </tr>\n",
       "    <tr>\n",
       "      <th>3</th>\n",
       "      <td>2019-01-07</td>\n",
       "      <td>321.720001</td>\n",
       "      <td>336.739990</td>\n",
       "      <td>317.750000</td>\n",
       "      <td>334.959991</td>\n",
       "      <td>7551200</td>\n",
       "      <td>7</td>\n",
       "      <td>1</td>\n",
       "      <td>2019</td>\n",
       "      <td>0</td>\n",
       "      <td>5.436113</td>\n",
       "      <td>-13.239990</td>\n",
       "      <td>-18.989990</td>\n",
       "      <td>1</td>\n",
       "    </tr>\n",
       "    <tr>\n",
       "      <th>4</th>\n",
       "      <td>2019-01-08</td>\n",
       "      <td>341.959991</td>\n",
       "      <td>344.010010</td>\n",
       "      <td>327.019989</td>\n",
       "      <td>335.350006</td>\n",
       "      <td>7008500</td>\n",
       "      <td>8</td>\n",
       "      <td>1</td>\n",
       "      <td>2019</td>\n",
       "      <td>0</td>\n",
       "      <td>0.116436</td>\n",
       "      <td>6.609985</td>\n",
       "      <td>-16.990021</td>\n",
       "      <td>1</td>\n",
       "    </tr>\n",
       "  </tbody>\n",
       "</table>\n",
       "</div>"
      ],
      "text/plain": [
       "         Date        Open        High         Low       Close    Volume  day  \\\n",
       "0  2019-01-02  306.100006  315.130005  298.799988  310.119995  11658600    2   \n",
       "1  2019-01-03  307.000000  309.399994  297.380005  300.359985   6965200    3   \n",
       "2  2019-01-04  306.000000  318.000000  302.730011  317.690002   7394100    4   \n",
       "3  2019-01-07  321.720001  336.739990  317.750000  334.959991   7551200    7   \n",
       "4  2019-01-08  341.959991  344.010010  327.019989  335.350006   7008500    8   \n",
       "\n",
       "   month  year  kraj_kvartala  Promjena  open-close   low-high  Kupiti  \n",
       "0      1  2019              0       NaN   -4.019989 -16.330017       0  \n",
       "1      1  2019              0 -3.147172    6.640015 -12.019989       1  \n",
       "2      1  2019              0  5.769749  -11.690002 -15.269989       1  \n",
       "3      1  2019              0  5.436113  -13.239990 -18.989990       1  \n",
       "4      1  2019              0  0.116436    6.609985 -16.990021       1  "
      ]
     },
     "execution_count": 7,
     "metadata": {},
     "output_type": "execute_result"
    }
   ],
   "source": [
    "dionice['open-close'] = dionice['Open'] - dionice['Close'] \n",
    "dionice['low-high'] = dionice['Low'] - dionice['High'] \n",
    "\n",
    "\n",
    "dionice['Kupiti'] = np.where(dionice['Close'].shift(-1) > dionice['Close'], 1, 0)\n",
    "\n",
    "dionice.head()"
   ]
  },
  {
   "cell_type": "code",
   "execution_count": 8,
   "metadata": {},
   "outputs": [
    {
     "data": {
      "text/html": [
       "<div>\n",
       "<style scoped>\n",
       "    .dataframe tbody tr th:only-of-type {\n",
       "        vertical-align: middle;\n",
       "    }\n",
       "\n",
       "    .dataframe tbody tr th {\n",
       "        vertical-align: top;\n",
       "    }\n",
       "\n",
       "    .dataframe thead th {\n",
       "        text-align: right;\n",
       "    }\n",
       "</style>\n",
       "<table border=\"1\" class=\"dataframe\">\n",
       "  <thead>\n",
       "    <tr style=\"text-align: right;\">\n",
       "      <th></th>\n",
       "      <th>kraj_kvartala</th>\n",
       "      <th>Promjena</th>\n",
       "      <th>open-close</th>\n",
       "      <th>low-high</th>\n",
       "      <th>Kupiti</th>\n",
       "    </tr>\n",
       "  </thead>\n",
       "  <tbody>\n",
       "    <tr>\n",
       "      <th>1</th>\n",
       "      <td>0</td>\n",
       "      <td>-3.147172</td>\n",
       "      <td>6.640015</td>\n",
       "      <td>-12.019989</td>\n",
       "      <td>1</td>\n",
       "    </tr>\n",
       "    <tr>\n",
       "      <th>2</th>\n",
       "      <td>0</td>\n",
       "      <td>5.769749</td>\n",
       "      <td>-11.690002</td>\n",
       "      <td>-15.269989</td>\n",
       "      <td>1</td>\n",
       "    </tr>\n",
       "    <tr>\n",
       "      <th>3</th>\n",
       "      <td>0</td>\n",
       "      <td>5.436113</td>\n",
       "      <td>-13.239990</td>\n",
       "      <td>-18.989990</td>\n",
       "      <td>1</td>\n",
       "    </tr>\n",
       "    <tr>\n",
       "      <th>4</th>\n",
       "      <td>0</td>\n",
       "      <td>0.116436</td>\n",
       "      <td>6.609985</td>\n",
       "      <td>-16.990021</td>\n",
       "      <td>1</td>\n",
       "    </tr>\n",
       "    <tr>\n",
       "      <th>5</th>\n",
       "      <td>0</td>\n",
       "      <td>0.948261</td>\n",
       "      <td>-3.029999</td>\n",
       "      <td>-12.029999</td>\n",
       "      <td>1</td>\n",
       "    </tr>\n",
       "  </tbody>\n",
       "</table>\n",
       "</div>"
      ],
      "text/plain": [
       "   kraj_kvartala  Promjena  open-close   low-high  Kupiti\n",
       "1              0 -3.147172    6.640015 -12.019989       1\n",
       "2              0  5.769749  -11.690002 -15.269989       1\n",
       "3              0  5.436113  -13.239990 -18.989990       1\n",
       "4              0  0.116436    6.609985 -16.990021       1\n",
       "5              0  0.948261   -3.029999 -12.029999       1"
      ]
     },
     "execution_count": 8,
     "metadata": {},
     "output_type": "execute_result"
    }
   ],
   "source": [
    "dionice = dionice.drop(['Date'], axis=1)\n",
    "dionice = dionice.drop(['day'], axis=1)\n",
    "dionice = dionice.drop(['month'], axis=1)\n",
    "dionice = dionice.drop(['year'], axis=1)\n",
    "\n",
    "dionice = dionice.drop(['Open'], axis=1)\n",
    "dionice = dionice.drop(['High'], axis=1)\n",
    "dionice = dionice.drop(['Low'], axis=1)\n",
    "#dionice = dionice.drop(['open-close'], axis=1)\n",
    "dionice = dionice.drop(['Close'], axis=1)\n",
    "\n",
    "dionice = dionice.drop(['Volume'], axis=1)\n",
    "\n",
    "dionice.drop(index=dionice.index[0], axis=0, inplace=True)\n",
    "\n",
    "\n",
    "dionice.head()\n"
   ]
  },
  {
   "cell_type": "code",
   "execution_count": 9,
   "metadata": {},
   "outputs": [
    {
     "data": {
      "text/plain": [
       "(251,)"
      ]
     },
     "execution_count": 9,
     "metadata": {},
     "output_type": "execute_result"
    }
   ],
   "source": [
    "y1 = dionice.iloc[:,-1]\n",
    "y1.shape"
   ]
  },
  {
   "cell_type": "code",
   "execution_count": 10,
   "metadata": {},
   "outputs": [
    {
     "data": {
      "text/plain": [
       "(251, 4)"
      ]
     },
     "execution_count": 10,
     "metadata": {},
     "output_type": "execute_result"
    }
   ],
   "source": [
    "X1 = dionice.iloc[:,:-1]\n",
    "X1.shape"
   ]
  },
  {
   "cell_type": "code",
   "execution_count": 11,
   "metadata": {},
   "outputs": [],
   "source": [
    "X_train1, X_test1, y_train1, y_test1 = train_test_split(X1, y1, random_state = 0)"
   ]
  },
  {
   "cell_type": "code",
   "execution_count": 12,
   "metadata": {},
   "outputs": [
    {
     "data": {
      "text/plain": [
       "(188, 4)"
      ]
     },
     "execution_count": 12,
     "metadata": {},
     "output_type": "execute_result"
    }
   ],
   "source": [
    "X_train1.shape"
   ]
  },
  {
   "cell_type": "code",
   "execution_count": 13,
   "metadata": {},
   "outputs": [
    {
     "data": {
      "text/plain": [
       "(63, 4)"
      ]
     },
     "execution_count": 13,
     "metadata": {},
     "output_type": "execute_result"
    }
   ],
   "source": [
    "X_test1.shape"
   ]
  },
  {
   "cell_type": "code",
   "execution_count": 14,
   "metadata": {},
   "outputs": [
    {
     "data": {
      "text/plain": [
       "(188,)"
      ]
     },
     "execution_count": 14,
     "metadata": {},
     "output_type": "execute_result"
    }
   ],
   "source": [
    "y_train1.shape"
   ]
  },
  {
   "cell_type": "code",
   "execution_count": 15,
   "metadata": {},
   "outputs": [
    {
     "data": {
      "text/plain": [
       "(63,)"
      ]
     },
     "execution_count": 15,
     "metadata": {},
     "output_type": "execute_result"
    }
   ],
   "source": [
    "y_test1.shape"
   ]
  },
  {
   "cell_type": "code",
   "execution_count": 16,
   "metadata": {},
   "outputs": [
    {
     "data": {
      "text/html": [
       "<div>\n",
       "<style scoped>\n",
       "    .dataframe tbody tr th:only-of-type {\n",
       "        vertical-align: middle;\n",
       "    }\n",
       "\n",
       "    .dataframe tbody tr th {\n",
       "        vertical-align: top;\n",
       "    }\n",
       "\n",
       "    .dataframe thead th {\n",
       "        text-align: right;\n",
       "    }\n",
       "</style>\n",
       "<table border=\"1\" class=\"dataframe\">\n",
       "  <thead>\n",
       "    <tr style=\"text-align: right;\">\n",
       "      <th></th>\n",
       "      <th>kraj_kvartala</th>\n",
       "      <th>Promjena</th>\n",
       "      <th>open-close</th>\n",
       "      <th>low-high</th>\n",
       "      <th>Kupiti</th>\n",
       "    </tr>\n",
       "  </thead>\n",
       "  <tbody>\n",
       "    <tr>\n",
       "      <th>1</th>\n",
       "      <td>0</td>\n",
       "      <td>-3.147172</td>\n",
       "      <td>6.640015</td>\n",
       "      <td>-12.019989</td>\n",
       "      <td>1</td>\n",
       "    </tr>\n",
       "    <tr>\n",
       "      <th>2</th>\n",
       "      <td>0</td>\n",
       "      <td>5.769749</td>\n",
       "      <td>-11.690002</td>\n",
       "      <td>-15.269989</td>\n",
       "      <td>1</td>\n",
       "    </tr>\n",
       "    <tr>\n",
       "      <th>3</th>\n",
       "      <td>0</td>\n",
       "      <td>5.436113</td>\n",
       "      <td>-13.239990</td>\n",
       "      <td>-18.989990</td>\n",
       "      <td>1</td>\n",
       "    </tr>\n",
       "    <tr>\n",
       "      <th>4</th>\n",
       "      <td>0</td>\n",
       "      <td>0.116436</td>\n",
       "      <td>6.609985</td>\n",
       "      <td>-16.990021</td>\n",
       "      <td>1</td>\n",
       "    </tr>\n",
       "    <tr>\n",
       "      <th>5</th>\n",
       "      <td>0</td>\n",
       "      <td>0.948261</td>\n",
       "      <td>-3.029999</td>\n",
       "      <td>-12.029999</td>\n",
       "      <td>1</td>\n",
       "    </tr>\n",
       "  </tbody>\n",
       "</table>\n",
       "</div>"
      ],
      "text/plain": [
       "   kraj_kvartala  Promjena  open-close   low-high  Kupiti\n",
       "1              0 -3.147172    6.640015 -12.019989       1\n",
       "2              0  5.769749  -11.690002 -15.269989       1\n",
       "3              0  5.436113  -13.239990 -18.989990       1\n",
       "4              0  0.116436    6.609985 -16.990021       1\n",
       "5              0  0.948261   -3.029999 -12.029999       1"
      ]
     },
     "execution_count": 16,
     "metadata": {},
     "output_type": "execute_result"
    }
   ],
   "source": [
    "dionice.head()"
   ]
  },
  {
   "cell_type": "code",
   "execution_count": 17,
   "metadata": {},
   "outputs": [
    {
     "data": {
      "image/png": "[encoded data removed]",
      "text/plain": [
       "<Figure size 432x288 with 1 Axes>"
      ]
     },
     "metadata": {
      "needs_background": "light"
     },
     "output_type": "display_data"
    }
   ],
   "source": [
    "from sklearn.neighbors import KNeighborsClassifier\n",
    "\n",
    "k_range = range(1,21)\n",
    "scores = []\n",
    "\n",
    "for k in k_range:\n",
    "    knn_class = KNeighborsClassifier(n_neighbors = k)\n",
    "    knn_class.fit(X_train1, y_train1)\n",
    "    scores.append(knn_class.score(X_test1, y_test1))\n",
    "\n",
    "plt.figure()\n",
    "plt.xlabel('k')\n",
    "plt.ylabel('Točnost')\n",
    "plt.scatter(k_range, scores)\n",
    "plt.xticks([0,5,10]);"
   ]
  },
  {
   "cell_type": "code",
   "execution_count": 18,
   "metadata": {},
   "outputs": [
    {
     "name": "stdout",
     "output_type": "stream",
     "text": [
      "[1 1 0 0 1 1 1 1 1 1 1 1 1 1 1 1 0 1 1 1 1 1 1 1 1 1 1 0 1 1 1 1 0 1 1 1 1\n",
      " 1 0 0 1 1 0 0 1 1 1 1 1 0 0 1 0 0 1 1 1 0 0 0 0 1 1]\n",
      "Točnost na skupu za testiranje: 0.571\n"
     ]
    }
   ],
   "source": [
    "knn_class = KNeighborsClassifier(n_neighbors = 19)\n",
    "\n",
    "knn_class.fit(X_train1, y_train1)\n",
    "\n",
    "print(knn_class.predict(X_test1))\n",
    "\n",
    "print('Točnost na skupu za testiranje: {:.3f}'.format(knn_class.score(X_test1, y_test1)))"
   ]
  },
  {
   "cell_type": "code",
   "execution_count": 19,
   "metadata": {},
   "outputs": [
    {
     "name": "stdout",
     "output_type": "stream",
     "text": [
      "[1 1 0 1 0 1 0 1 0 0 0 1 1 1 1 1 1 0 1 0 1 1 1 1 1 1 0 1 1 1 1 0 1 1 0 1 1\n",
      " 0 0 1 1 1 1 1 0 1 1 1 1 1 1 0 1 0 1 0 1 1 1 1 1 0 0]\n",
      "Točnost: 0.444\n"
     ]
    }
   ],
   "source": [
    "from sklearn.linear_model import LogisticRegression\n",
    "\n",
    "log_reg = LogisticRegression()\n",
    "\n",
    "log_reg.fit(X_train1, y_train1)\n",
    "\n",
    "print(log_reg.predict(X_test1))\n",
    "\n",
    "print('Točnost: {:.3f}'.format(log_reg.score(X_test1, y_test1)))"
   ]
  },
  {
   "cell_type": "code",
   "execution_count": 20,
   "metadata": {},
   "outputs": [
    {
     "name": "stdout",
     "output_type": "stream",
     "text": [
      "[[0.34300911 0.08202826 0.02585067 0.00846936]]\n",
      "[0.07040945]\n"
     ]
    }
   ],
   "source": [
    "print(log_reg.coef_)\n",
    "print(log_reg.intercept_)"
   ]
  },
  {
   "cell_type": "code",
   "execution_count": 21,
   "metadata": {},
   "outputs": [
    {
     "name": "stdout",
     "output_type": "stream",
     "text": [
      "[1 1 1 1 0 1 1 1 0 1 0 1 1 0 1 0 0 1 1 1 1 1 1 1 0 1 1 1 1 1 1 1 0 1 1 0 0\n",
      " 0 0 1 1 0 1 1 1 0 0 1 0 1 1 0 0 1 0 0 0 1 0 1 1 0 1]\n",
      "Točnost na skupu za testiranje: 0.54\n"
     ]
    },
    {
     "name": "stderr",
     "output_type": "stream",
     "text": [
      "C:\\Users\\Admin\\anaconda3\\lib\\site-packages\\sklearn\\neural_network\\_multilayer_perceptron.py:471: ConvergenceWarning: lbfgs failed to converge (status=1):\n",
      "STOP: TOTAL NO. of ITERATIONS REACHED LIMIT.\n",
      "\n",
      "Increase the number of iterations (max_iter) or scale the data as shown in:\n",
      "    https://scikit-learn.org/stable/modules/preprocessing.html\n",
      "  self.n_iter_ = _check_optimize_result(\"lbfgs\", opt_res, self.max_iter)\n"
     ]
    }
   ],
   "source": [
    "from sklearn.neural_network import MLPClassifier\n",
    "\n",
    "nn_class = MLPClassifier(hidden_layer_sizes = [100, 100], random_state = 0, solver='lbfgs')\n",
    "\n",
    "nn_class.fit(X_train1, y_train1)\n",
    "\n",
    "print(nn_class.predict(X_test1))\n",
    "\n",
    "print('Točnost na skupu za testiranje: {:.2f}'.format(nn_class.score(X_test1, y_test1)))"
   ]
  },
  {
   "cell_type": "code",
   "execution_count": 22,
   "metadata": {},
   "outputs": [
    {
     "name": "stdout",
     "output_type": "stream",
     "text": [
      "col_0   0   1\n",
      "row_0        \n",
      "0      10   7\n",
      "1      20  26\n",
      "col_0   0   1\n",
      "row_0        \n",
      "0       7  12\n",
      "1      23  21\n",
      "col_0   0   1\n",
      "row_0        \n",
      "0      12  11\n",
      "1      18  22\n"
     ]
    }
   ],
   "source": [
    "matrica_konfuzije1 = pd.crosstab(knn_class.predict(X_test1), y_test1.values)\n",
    "print(matrica_konfuzije1)\n",
    "\n",
    "matrica_konfuzije2 = pd.crosstab(log_reg.predict(X_test1), y_test1.values)\n",
    "print(matrica_konfuzije2)\n",
    "\n",
    "matrica_konfuzije3 = pd.crosstab(nn_class.predict(X_test1), y_test1.values)\n",
    "print(matrica_konfuzije3)"
   ]
  },
  {
   "cell_type": "code",
   "execution_count": 23,
   "metadata": {},
   "outputs": [
    {
     "name": "stdout",
     "output_type": "stream",
     "text": [
      "Stopa odaziva za sve klasifikatore: 1.00\n",
      "Preciznost za kNN: 0.88\n",
      "Preciznost za logističku regresiju i neuronsku mrežu:: 0.78\n"
     ]
    }
   ],
   "source": [
    "# Odaziv (osjetljivost, omjer točno pozitivnih) = TP / (TP + FN)\n",
    "print('Stopa odaziva za sve klasifikatore: {:.2f}'.format(7/(7+0)))\n",
    "\n",
    "# Preciznost = TP / (TP + FP)\n",
    "print('Preciznost za kNN: {:.2f}'.format(7/(7+1)))\n",
    "print('Preciznost za logističku regresiju i neuronsku mrežu:: {:.2f}'.format(7/(7+2)))"
   ]
  },
  {
   "cell_type": "code",
   "execution_count": 24,
   "metadata": {},
   "outputs": [
    {
     "name": "stdout",
     "output_type": "stream",
     "text": [
      "Stopa odaziva za kNN: 0.79\n",
      "Stopa odaziva za logističku regresiju i neuronsku mrežu: 0.67\n",
      "Preciznost za kNN: 0.57\n",
      "Preciznost za logističku regresiju i neuronsku mrežu: 0.55\n"
     ]
    }
   ],
   "source": [
    "from sklearn.metrics import accuracy_score, precision_score, recall_score\n",
    "\n",
    "# Stopa odaziva:\n",
    "print('Stopa odaziva za kNN: {:.2f}'.format(recall_score(y_test1, knn_class.predict(X_test1))))\n",
    "print('Stopa odaziva za logističku regresiju i neuronsku mrežu: {:.2f}'.format(recall_score(y_test1, nn_class.predict(X_test1))))\n",
    "\n",
    "# Preciznost\n",
    "print('Preciznost za kNN: {:.2f}'.format(precision_score(y_test1, knn_class.predict(X_test1))))\n",
    "print('Preciznost za logističku regresiju i neuronsku mrežu: {:.2f}'.format(precision_score(y_test1, nn_class.predict(X_test1))))"
   ]
  },
  {
   "cell_type": "code",
   "execution_count": null,
   "metadata": {},
   "outputs": [],
   "source": []
  }
 ],
 "metadata": {
  "kernelspec": {
   "display_name": "Python 3",
   "language": "python",
   "name": "python3"
  },
  "language_info": {
   "codemirror_mode": {
    "name": "ipython",
    "version": 3
   },
   "file_extension": ".py",
   "mimetype": "text/x-python",
   "name": "python",
   "nbconvert_exporter": "python",
   "pygments_lexer": "ipython3",
   "version": "3.8.3"
  }
 },
 "nbformat": 4,
 "nbformat_minor": 4
}
